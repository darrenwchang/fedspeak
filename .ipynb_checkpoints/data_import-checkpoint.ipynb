{
 "cells": [
  {
   "cell_type": "code",
   "execution_count": 10,
   "metadata": {},
   "outputs": [
    {
     "name": "stdout",
     "output_type": "stream",
     "text": [
      "<title>St. Louis: January 2020 | Federal Reserve Bank of Minneapolis</title>\n",
      "\n",
      "\n",
      "We serve the public by pursuing a growing economy and stable financial system that work for all of us.\n",
      "\r\n",
      "\t\tWe examine economic issues that deeply affect our communities.\r\n",
      "\t\n",
      "\n",
      "\n",
      "We conduct world-class research to inform and inspire policymakers and the public. \n",
      "\n",
      "\n",
      "We provide the banking community with timely information and useful guidance.\n",
      "\n",
      "\n",
      "We strive to advance policy that promotes economic well-being.\n",
      "‹ Back to Archive Search\n",
      "January 15, 2020\n",
      "Summary of Economic Activity\r\n",
      "Reports from contacts indicate that economic conditions have slightly improved since our previous report. Firms reported employment levels were unchanged. Overall, wage pressures have increased moderately, with contacts citing minimum wage increases as a contributing factor. Reports on consumer spending were generally positive, although reports on holiday sales were mixed. Activity in the manufacturing sector continued to decline, although there are signs of stabilization. District banking contacts reported positive growth in loan volumes. Agriculture conditions remain unchanged, although overall conditions remain weak in this sector.\n",
      "Employment and Wages\r\n",
      "Employment has remained largely unchanged since the previous reporting period. Contacts across the District frequently emphasized the tight labor market. Firms continue to raise benefits, lower hiring standards, automate positions, and increase existing employees' responsibilities due to chronic worker shortages. However, many firms are hesitant to invest in training new employees, fearing that they would expend resources developing workers and lose them to better-paying jobs. Small and rural business contacts report having an especially difficult time recruiting workers. Survey-based indicators also continue to show employment declines in Missouri and Arkansas manufacturing. However, overall employment remains strong, with St. Louis contacts emphasizing that employers continue to expand their workforce whenever possible.\n",
      "Wages have increased moderately since the previous report. Contacts continued to link this to the tight labor market, raising wages to both attract new workers and limit turnover. Firms' reported ability to raise wages remains positively related to their size, with smaller firms struggling to increase wages. Arkansas, Illinois, and Missouri minimum wage increases have also come into effect with the new year. Uncertainty over how this will impact market wages of various positions has led some Missouri contacts to delay hiring for at least a month. An Arkansas contact reported multiple retailers are hiring fewer workers to counteract the increase in labor costs.\n",
      "Prices\r\n",
      "Prices have increased slightly since the previous report. Business contacts noted that fuel and energy costs have been declining, and coal prices in particular have shown modest declines since the previous report. Auto industry contacts noted slight increases in the prices of used vehicles, but also the availability of more low-interest financing options with low down payments.\n",
      "Construction contacts reported that prior price increases from tariffs on building materials, such as steel and aluminum, have now been passed on to consumers. Steel prices have increased by 12 percent since the previous report, but are down 26 percent year over year. Contacts in the retail and restaurant industries said that prices were unchanged, but that increasing food prices are putting cost pressures on businesses.\n",
      "Consumer Spending\r\n",
      "Reports from general retailers, auto dealers, and hospitality contacts indicate consumer activity has improved slightly since the previous report. November real sales tax collections increased in Missouri, West Tennessee, Arkansas, and Kentucky relative to a year ago. Consumer sentiment in West Tennessee regarding both current economic conditions and economic conditions over the next six months has improved since September. Little Rock area general retailers reported slight increases in business activity during the second half of 2019. St. Louis area general retailers had mixed accounts of sales over the holiday season, noting a strong shift toward online shopping. Little Rock area auto dealers reported steady sales over the previous quarter, and they continued to observe particularly strong demand in the used car market. St. Louis region hospitality contacts generally reported that business activity met expectations over the holiday season, and they remain cautiously optimistic about the months ahead, encouraged by several major events taking place in the region during the first quarter of 2020.\n",
      "Manufacturing\r\n",
      "Overall manufacturing activity has declined slightly since our previous report. Survey-based indexes suggest that Arkansas manufacturing activity remained stable. New orders remained stable, while production decreased slightly from last month. Manufacturing activity in Missouri declined relative to one month ago. New orders and production decreased slightly. Contacts in the steel and landscape equipment industries reported plans to increase capital investment in 2020. One large U.S. manufacturing company announced plans to open a manufacturing/distribution facility in the region.\n",
      "Nonfinancial Services\r\n",
      "Activity in the services sector has slightly improved since the previous report. The transportation industry has experienced increased activity since the previous report. Major logistics firms plan new distribution centers; however, one firm has announced layoffs. Traffic on waterways and highways is largely unchanged. Contacts noted falling river barge prices resulting from excess supply of river barges due to declining exports of soybeans. However, in airports, passenger traffic increased by 3 percent year-to-year.\n",
      "Real Estate and Construction\r\n",
      "Residential real estate activity has decreased slightly since the previous report. Seasonally adjusted home sales decreased modestly from October to November in Little Rock, decreased slightly in St. Louis and Memphis, and were unchanged in Louisville. Inventory levels in the region remained depressed.\n",
      "Residential construction activity increased slightly. There was a slight uptick in November permit activity across District MSAs relative to the previous month. Contacts in St. Louis reported that, while year-to-date permit levels are down slightly in the area compared with this time last year, builders remain confident that housing demand will remain robust due to low mortgage rates.\n",
      "Commercial construction activity has increased modestly since the previous report. The number of commercial construction projects increased moderately from October to November across most of the states in the District. A contact in Little Rock noted that they had never seen a construction boom as strong and as long-lasting as the current one.\n",
      "Banking and Finance\r\n",
      "Banking conditions in the District have improved modestly since the previous report. According to reports from bankers, outstanding loan volumes grew by 4 percent in the fourth quarter relative to one year ago, which was a departure from a recent slowing in the rate of loan growth. Commercial and industrial lending growth remained stable, growing by 2 percent year-over-year. Commercial real estate lending maintained a positive and slightly slower growth rate compared with the previous quarter. Residential real estate lending also increased slowly, which is in contrast to the prior quarter, when lending growth declined slightly.\n",
      "Agriculture and Natural Resources\r\n",
      "District agriculture conditions remain unchanged from the previous reporting period. The percentage of winter wheat in the District rated fair or better remained approximately unchanged at 93 percent from the end of October to the end of November. This is roughly the same level of winter wheat rated fair or better at the end of 2018. Contacts reported that continued low crop prices and trade disputes have harmed the industry. Several reports indicated the federal assistance to farmers via the market facilitation program has helped farmers remain in business.\n",
      "Natural resource extraction conditions improved modestly from October to November, with seasonally adjusted coal production increasing 1.8 percent. November production declined 7 percent from a year ago.\n",
      "For more information about District economic conditions, visit: https://research.stlouisfed.org/regecon/\n",
      "\r\n",
      "                            We serve the public by pursuing a growing economy and stable financial system that work for all of us.\n",
      "\n"
     ]
    }
   ],
   "source": [
    "#try with january 2020 stl data\n",
    "import bs4 as bs\n",
    "import urllib.request\n",
    "\n",
    "url = \"https://www.minneapolisfed.org/beige-book-reports/2020/2020-01-sl\"\n",
    "html = urllib.request.urlopen(url).read()\n",
    "soup = bs.BeautifulSoup(html)\n",
    "\n",
    "# title of the page\n",
    "print(soup.title)\n",
    "\n",
    "for paragraph in soup.find_all('p'):\n",
    "    print(str(paragraph.text))"
   ]
  },
  {
   "cell_type": "code",
   "execution_count": null,
   "metadata": {},
   "outputs": [],
   "source": []
  }
 ],
 "metadata": {
  "kernelspec": {
   "display_name": "Python 3",
   "language": "python",
   "name": "python3"
  },
  "language_info": {
   "codemirror_mode": {
    "name": "ipython",
    "version": 3
   },
   "file_extension": ".py",
   "mimetype": "text/x-python",
   "name": "python",
   "nbconvert_exporter": "python",
   "pygments_lexer": "ipython3",
   "version": "3.7.6"
  }
 },
 "nbformat": 4,
 "nbformat_minor": 4
}
